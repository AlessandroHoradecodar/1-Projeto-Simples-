{
  "nbformat": 4,
  "nbformat_minor": 0,
  "metadata": {
    "colab": {
      "provenance": [],
      "authorship_tag": "ABX9TyMp3dxKIWhhqSzzw0S22ht5",
      "include_colab_link": true
    },
    "kernelspec": {
      "name": "python3",
      "display_name": "Python 3"
    },
    "language_info": {
      "name": "python"
    }
  },
  "cells": [
    {
      "cell_type": "markdown",
      "metadata": {
        "id": "view-in-github",
        "colab_type": "text"
      },
      "source": [
        "<a href=\"https://colab.research.google.com/github/AlessandroHoradecodar/1-Projeto-Simples-/blob/main/AtividadeDataSciense.ipynb\" target=\"_parent\"><img src=\"https://colab.research.google.com/assets/colab-badge.svg\" alt=\"Open In Colab\"/></a>"
      ]
    },
    {
      "cell_type": "code",
      "execution_count": 2,
      "metadata": {
        "id": "BcHIQpv_npfI"
      },
      "outputs": [],
      "source": [
        "import pandas as pd"
      ]
    },
    {
      "cell_type": "code",
      "source": [
        "import numpy as np"
      ],
      "metadata": {
        "id": "XF736ruZoKas"
      },
      "execution_count": 3,
      "outputs": []
    },
    {
      "cell_type": "code",
      "source": [
        "serie1= pd.Series([10,9,8,2,5])"
      ],
      "metadata": {
        "id": "8T4gAW-coO8N"
      },
      "execution_count": 5,
      "outputs": []
    },
    {
      "cell_type": "code",
      "source": [
        "serie1.values"
      ],
      "metadata": {
        "colab": {
          "base_uri": "https://localhost:8080/"
        },
        "id": "TJ6wADhVo-CO",
        "outputId": "bde4316c-2d38-4876-bde5-7f0ca3443c95"
      },
      "execution_count": 6,
      "outputs": [
        {
          "output_type": "execute_result",
          "data": {
            "text/plain": [
              "array([10,  9,  8,  2,  5])"
            ]
          },
          "metadata": {},
          "execution_count": 6
        }
      ]
    },
    {
      "cell_type": "code",
      "source": [
        "serie1.index"
      ],
      "metadata": {
        "colab": {
          "base_uri": "https://localhost:8080/"
        },
        "id": "xeTKydFnpONv",
        "outputId": "d13860f6-f159-441b-b928-8573f8e727eb"
      },
      "execution_count": 7,
      "outputs": [
        {
          "output_type": "execute_result",
          "data": {
            "text/plain": [
              "RangeIndex(start=0, stop=5, step=1)"
            ]
          },
          "metadata": {},
          "execution_count": 7
        }
      ]
    },
    {
      "cell_type": "code",
      "source": [
        "serie2=pd.Series(np.random.rand(10), index=np.arange(1,11))\n",
        "serie2"
      ],
      "metadata": {
        "colab": {
          "base_uri": "https://localhost:8080/"
        },
        "id": "jvse_Haopl83",
        "outputId": "0f056dd5-17a0-4cd0-9825-1eed766cdeea"
      },
      "execution_count": 9,
      "outputs": [
        {
          "output_type": "execute_result",
          "data": {
            "text/plain": [
              "1     0.501629\n",
              "2     0.772811\n",
              "3     0.920181\n",
              "4     0.421690\n",
              "5     0.705271\n",
              "6     0.230760\n",
              "7     0.141158\n",
              "8     0.556076\n",
              "9     0.544753\n",
              "10    0.592107\n",
              "dtype: float64"
            ]
          },
          "metadata": {},
          "execution_count": 9
        }
      ]
    },
    {
      "cell_type": "code",
      "source": [
        "serie2=pd.Series([4,7,6,3], index=[\"a\",\"b\",\"c\",\"d\"])\n",
        "serie2"
      ],
      "metadata": {
        "colab": {
          "base_uri": "https://localhost:8080/"
        },
        "id": "sWyYbJrrqbjS",
        "outputId": "620a9a8a-534b-49ee-bf35-dde26a7a4d34"
      },
      "execution_count": 10,
      "outputs": [
        {
          "output_type": "execute_result",
          "data": {
            "text/plain": [
              "a    4\n",
              "b    7\n",
              "c    6\n",
              "d    3\n",
              "dtype: int64"
            ]
          },
          "metadata": {},
          "execution_count": 10
        }
      ]
    },
    {
      "cell_type": "code",
      "source": [
        "serie2=pd.Series([True,7,6,3],index=[4.5,\"b\",\"c\",\"d\"])\n",
        "serie2\n"
      ],
      "metadata": {
        "colab": {
          "base_uri": "https://localhost:8080/"
        },
        "id": "8r_SDHPzr6n4",
        "outputId": "57ebc6e6-00e5-4dce-e11c-b7ce20c1c12c"
      },
      "execution_count": 12,
      "outputs": [
        {
          "output_type": "execute_result",
          "data": {
            "text/plain": [
              "4.5    True\n",
              "b         7\n",
              "c         6\n",
              "d         3\n",
              "dtype: object"
            ]
          },
          "metadata": {},
          "execution_count": 12
        }
      ]
    },
    {
      "cell_type": "code",
      "source": [
        "capitais={\n",
        "    'Pernambuco': 'Recife',\n",
        "    'Paraíba': 'Joõ Pessoa',\n",
        "    'Ceará': 'Fortaleza',\n",
        "    'Bahia': 'Salvador',\n",
        "    'Alagoas': 'Macéio'\n",
        "}\n",
        "type(capitais)"
      ],
      "metadata": {
        "colab": {
          "base_uri": "https://localhost:8080/"
        },
        "id": "1r_DPx7Fsa5Y",
        "outputId": "97502634-f91c-47ad-ea14-3ebe7b9f1dc8"
      },
      "execution_count": 15,
      "outputs": [
        {
          "output_type": "execute_result",
          "data": {
            "text/plain": [
              "dict"
            ]
          },
          "metadata": {},
          "execution_count": 15
        }
      ]
    },
    {
      "cell_type": "code",
      "source": [
        "serie3= pd.Series(capitais)\n",
        "serie3"
      ],
      "metadata": {
        "colab": {
          "base_uri": "https://localhost:8080/"
        },
        "id": "_pGsWA3BtJBL",
        "outputId": "b48c66cd-7ef0-4027-db0d-339a83556f66"
      },
      "execution_count": 16,
      "outputs": [
        {
          "output_type": "execute_result",
          "data": {
            "text/plain": [
              "Pernambuco        Recife\n",
              "Paraíba       Joõ Pessoa\n",
              "Ceará          Fortaleza\n",
              "Bahia           Salvador\n",
              "Alagoas           Macéio\n",
              "dtype: object"
            ]
          },
          "metadata": {},
          "execution_count": 16
        }
      ]
    },
    {
      "cell_type": "code",
      "source": [
        "dictEmpresas= {'Apple': 947.062,\n",
        "              'Google': 819.573,\n",
        "              'Amazon': 705.646,\n",
        "              'Microsoftt':611.460,\n",
        "              'Tencent': 214.063,\n",
        "              'McDonalds': 196.526,\n",
        "              'Visa':191.032,\n",
        "              'Facebook':186.421,\n",
        "              'Alibaba':169.966,\n",
        "              'Louis Vuiton': 124.273,\n",
        "\n",
        "}"
      ],
      "metadata": {
        "id": "7KfdmCoqt32X"
      },
      "execution_count": 22,
      "outputs": []
    },
    {
      "cell_type": "code",
      "source": [
        "serie4= pd.Series(dictEmpresas)\n",
        "serie4"
      ],
      "metadata": {
        "colab": {
          "base_uri": "https://localhost:8080/"
        },
        "id": "ZN4fWat4vdzk",
        "outputId": "3c56718f-2b61-422f-d8d6-3184ee73bec3"
      },
      "execution_count": 23,
      "outputs": [
        {
          "output_type": "execute_result",
          "data": {
            "text/plain": [
              "Apple           947.062\n",
              "Google          819.573\n",
              "Amazon          705.646\n",
              "Microsoftt      611.460\n",
              "Tencent         214.063\n",
              "McDonalds       196.526\n",
              "Visa            191.032\n",
              "Facebook        186.421\n",
              "Alibaba         169.966\n",
              "Louis Vuiton    124.273\n",
              "dtype: float64"
            ]
          },
          "metadata": {},
          "execution_count": 23
        }
      ]
    },
    {
      "cell_type": "code",
      "source": [
        "empresas= {'Apple',\n",
        "              'Google',\n",
        "              'Amazon',\n",
        "              'Microsoftt',\n",
        "              'Tencent',\n",
        "              'McDonalds',\n",
        "              'Visa',\n",
        "              'Facebook',\n",
        "              'Alibaba',\n",
        "              'Louis Vuiton',\n",
        "\n",
        "}"
      ],
      "metadata": {
        "id": "q5TxsU3GxURi"
      },
      "execution_count": 29,
      "outputs": []
    },
    {
      "cell_type": "code",
      "source": [
        "bilhoes=[947.062,819.573,705.646,611.460,214.063,196.526,191.032,186.421,169.966,124.273]"
      ],
      "metadata": {
        "id": "mM_sFEjCwf8Y"
      },
      "execution_count": 34,
      "outputs": []
    },
    {
      "cell_type": "code",
      "source": [
        "serie5= pd.Series(bilhoes, index=empresas)\n",
        "serie5"
      ],
      "metadata": {
        "colab": {
          "base_uri": "https://localhost:8080/"
        },
        "id": "RAhs52_6xwLa",
        "outputId": "f574d340-3ca9-42f3-b9d8-fe87959b73a8"
      },
      "execution_count": 35,
      "outputs": [
        {
          "output_type": "execute_result",
          "data": {
            "text/plain": [
              "McDonalds       947.062\n",
              "Louis Vuiton    819.573\n",
              "Facebook        705.646\n",
              "Google          611.460\n",
              "Visa            214.063\n",
              "Amazon          196.526\n",
              "Apple           191.032\n",
              "Tencent         186.421\n",
              "Microsoftt      169.966\n",
              "Alibaba         124.273\n",
              "dtype: float64"
            ]
          },
          "metadata": {},
          "execution_count": 35
        }
      ]
    },
    {
      "cell_type": "code",
      "source": [
        "import matplotlib.pyplot as plt\n"
      ],
      "metadata": {
        "id": "6tNXNPdByuPH"
      },
      "execution_count": 36,
      "outputs": []
    },
    {
      "cell_type": "code",
      "source": [
        "serie5.plot()"
      ],
      "metadata": {
        "colab": {
          "base_uri": "https://localhost:8080/",
          "height": 447
        },
        "id": "HJFYuZWPy3eV",
        "outputId": "af40da41-b50a-4e40-e70d-b03c68b970d7"
      },
      "execution_count": 37,
      "outputs": [
        {
          "output_type": "execute_result",
          "data": {
            "text/plain": [
              "<Axes: >"
            ]
          },
          "metadata": {},
          "execution_count": 37
        },
        {
          "output_type": "display_data",
          "data": {
            "text/plain": [
              "<Figure size 640x480 with 1 Axes>"
            ],
            "image/png": "[encoded data removed]"
          },
          "metadata": {}
        }
      ]
    },
    {
      "cell_type": "code",
      "source": [
        "serie5.plot(kind='bar')"
      ],
      "metadata": {
        "colab": {
          "base_uri": "https://localhost:8080/",
          "height": 517
        },
        "id": "RufqKoOCy-q8",
        "outputId": "d8d179b3-f72c-4cc7-d1fc-4d498e29277f"
      },
      "execution_count": 38,
      "outputs": [
        {
          "output_type": "execute_result",
          "data": {
            "text/plain": [
              "<Axes: >"
            ]
          },
          "metadata": {},
          "execution_count": 38
        },
        {
          "output_type": "display_data",
          "data": {
            "text/plain": [
              "<Figure size 640x480 with 1 Axes>"
            ],
            "image/png": "[encoded data removed]"
          },
          "metadata": {}
        }
      ]
    },
    {
      "cell_type": "code",
      "source": [
        "serie5.plot(kind='pie')"
      ],
      "metadata": {
        "colab": {
          "base_uri": "https://localhost:8080/",
          "height": 423
        },
        "id": "_Ug218i3zFwS",
        "outputId": "5ed5d349-d43c-405a-faf9-6a816d397905"
      },
      "execution_count": 39,
      "outputs": [
        {
          "output_type": "execute_result",
          "data": {
            "text/plain": [
              "<Axes: >"
            ]
          },
          "metadata": {},
          "execution_count": 39
        },
        {
          "output_type": "display_data",
          "data": {
            "text/plain": [
              "<Figure size 640x480 with 1 Axes>"
            ],
            "image/png": "[encoded data removed]"
          },
          "metadata": {}
        }
      ]
    }
  ]
}